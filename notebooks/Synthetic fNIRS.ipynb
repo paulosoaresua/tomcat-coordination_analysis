{
 "cells": [
  {
   "cell_type": "code",
   "execution_count": 2,
   "id": "c5c15938-140a-45db-9bd2-473bf9b7e63d",
   "metadata": {
    "ExecuteTime": {
     "end_time": "2024-10-13T16:43:14.487093Z",
     "start_time": "2024-10-13T16:43:14.475223Z"
    }
   },
   "outputs": [
    {
     "name": "stdout",
     "output_type": "stream",
     "text": [
      "The autoreload extension is already loaded. To reload it, use:\n",
      "  %reload_ext autoreload\n"
     ]
    }
   ],
   "source": [
    "%load_ext autoreload\n",
    "%autoreload 2\n",
    "%config InlineBackend.figure_format = 'retina'"
   ]
  },
  {
   "cell_type": "code",
   "execution_count": 3,
   "id": "ee686f7e-2cf1-403d-ac47-ac57da892327",
   "metadata": {
    "ExecuteTime": {
     "end_time": "2024-10-13T16:43:15.966092Z",
     "start_time": "2024-10-13T16:43:14.487878Z"
    }
   },
   "outputs": [],
   "source": [
    "from __future__ import annotations\n",
    "from typing import Any, Callable, List, Optional, Tuple\n",
    "\n",
    "import os\n",
    "import sys\n",
    "sys.path.append(\"../\") # So we can use the coordination package\n",
    "if not sys.warnoptions:\n",
    "    import warnings\n",
    "    warnings.simplefilter(\"ignore\")\n",
    "\n",
    "from copy import deepcopy\n",
    "import arviz as az\n",
    "import matplotlib.pyplot as plt\n",
    "from matplotlib.ticker import FuncFormatter\n",
    "import numpy as np\n",
    "import pandas as pd\n",
    "import seaborn as sns\n",
    "\n",
    "from coordination.model.real.brain import BrainModel\n",
    "from coordination.model.config_bundle.brain import BrainBundle\n",
    "from coordination.model.model import ModelSamples\n",
    "from coordination.inference.inference_data import InferenceData"
   ]
  },
  {
   "cell_type": "markdown",
   "id": "5ad1a8f6-64f0-48e3-800d-2529f82561de",
   "metadata": {},
   "source": [
    "# Style"
   ]
  },
  {
   "cell_type": "code",
   "execution_count": 4,
   "id": "587d52f1-fe5c-4b7c-9c31-3b3ce91add8c",
   "metadata": {
    "ExecuteTime": {
     "end_time": "2024-10-13T16:43:15.978858Z",
     "start_time": "2024-10-13T16:43:15.966816Z"
    }
   },
   "outputs": [],
   "source": [
    "sns.set_style(\"white\")\n",
    "tex_fonts = {\n",
    "    \"axes.labelsize\": 8,\n",
    "    \"font.size\": 8,\n",
    "    \"legend.fontsize\": 8,\n",
    "    \"xtick.labelsize\": 6,\n",
    "    \"ytick.labelsize\": 6,\n",
    "    \"axes.titlesize\": 8,\n",
    "    \"axes.linewidth\": 1\n",
    "}\n",
    "plt.rcParams.update(tex_fonts)\n",
    "plt.rc('pdf',fonttype = 42)\n",
    "plt.rcParams['text.usetex'] = True\n",
    "\n",
    "# Use \\showthe\\textwidth\n",
    "DOC_WIDTH = int(487.8225)"
   ]
  },
  {
   "cell_type": "markdown",
   "id": "fbdecf72-2655-4371-859a-77ce688eafce",
   "metadata": {},
   "source": [
    "## Helper functions"
   ]
  },
  {
   "cell_type": "code",
   "execution_count": 5,
   "id": "0f9b8867-b442-45dd-ba42-27eeea0483d8",
   "metadata": {
    "ExecuteTime": {
     "end_time": "2024-10-13T16:43:15.991384Z",
     "start_time": "2024-10-13T16:43:15.979647Z"
    }
   },
   "outputs": [],
   "source": [
    "def calculate_best_figure_dimensions(document_width: Union[str, float], scale=1, subplots=(1, 1)):\n",
    "    \"\"\"Set figure dimensions to avoid scaling in LaTeX.\n",
    "    From: https://jwalton.info/Embed-Publication-Matplotlib-Latex/\n",
    "\n",
    "    Parameters\n",
    "    ----------\n",
    "    document_width: Union[str, float]\n",
    "            Document textwidth or columnwidth in pts. Predefined strings are also acceptable.\n",
    "    scale: float, optional\n",
    "            Fraction of the width which you wish the figure to occupy\n",
    "    subplots: array-like, optional\n",
    "            The number of rows and columns of subplots.\n",
    "\n",
    "    Returns\n",
    "    -------\n",
    "    fig_dim: tuple\n",
    "            Dimensions of figure in inches\n",
    "    \"\"\"\n",
    "    width_pt = document_width\n",
    "\n",
    "    # Width of figure (in pts)\n",
    "    fig_width_pt = width_pt * scale\n",
    "\n",
    "    # Convert from pt to inches\n",
    "    inches_per_pt = 1 / 72.27\n",
    "\n",
    "    # Golden ratio to set aesthetic figure height\n",
    "    # https://disq.us/p/2940ij3\n",
    "    golden_ratio = (5 ** .5 - 1) / 2\n",
    "\n",
    "    # Figure width in inches\n",
    "    fig_width_in = fig_width_pt * inches_per_pt\n",
    "\n",
    "    # Figure height in inches\n",
    "    fig_height_in = fig_width_in * golden_ratio * (subplots[0] / subplots[1])\n",
    "\n",
    "    return fig_width_in, fig_height_in"
   ]
  },
  {
   "cell_type": "markdown",
   "id": "aa2ba6e4-779e-4647-865b-2adac64ae9e8",
   "metadata": {},
   "source": [
    "# Constants"
   ]
  },
  {
   "cell_type": "code",
   "execution_count": 6,
   "id": "31a70279-8049-49c4-bc64-760b0087dbe9",
   "metadata": {
    "ExecuteTime": {
     "end_time": "2024-10-13T16:43:16.003308Z",
     "start_time": "2024-10-13T16:43:15.992177Z"
    }
   },
   "outputs": [],
   "source": [
    "SEED = 0\n",
    "T = 30"
   ]
  },
  {
   "cell_type": "markdown",
   "id": "08290a49-caa1-4acc-a1c5-14bbbe4acc0b",
   "metadata": {},
   "source": [
    "# Models"
   ]
  },
  {
   "cell_type": "code",
   "execution_count": 7,
   "id": "eb0d3011-c916-4bcb-ac16-1566b9d5e6f2",
   "metadata": {
    "ExecuteTime": {
     "end_time": "2024-10-13T16:43:16.033525Z",
     "start_time": "2024-10-13T16:43:16.004062Z"
    }
   },
   "outputs": [
    {
     "ename": "ValueError",
     "evalue": "all the input arrays must have same number of dimensions, but the array at index 0 has 2 dimension(s) and the array at index 1 has 3 dimension(s)",
     "output_type": "error",
     "traceback": [
      "\u001b[0;31m---------------------------------------------------------------------------\u001b[0m",
      "\u001b[0;31mValueError\u001b[0m                                Traceback (most recent call last)",
      "Cell \u001b[0;32mIn[7], line 44\u001b[0m\n\u001b[1;32m     41\u001b[0m     \u001b[38;5;28;01mreturn\u001b[39;00m bundle\n\u001b[1;32m     43\u001b[0m model_low_c_and_cc \u001b[38;5;241m=\u001b[39m BrainModel(get_config_bundle(T, \u001b[38;5;241m0.2\u001b[39m, \u001b[38;5;28;01mFalse\u001b[39;00m, process_noise \u001b[38;5;241m=\u001b[39m \u001b[38;5;241m0.01\u001b[39m, observation_noise \u001b[38;5;241m=\u001b[39m \u001b[38;5;241m0.01\u001b[39m, common_cause\u001b[38;5;241m=\u001b[39m\u001b[38;5;28;01mTrue\u001b[39;00m))\n\u001b[0;32m---> 44\u001b[0m data_low_c_and_cc \u001b[38;5;241m=\u001b[39m \u001b[43mmodel_low_c_and_cc\u001b[49m\u001b[38;5;241;43m.\u001b[39;49m\u001b[43mdraw_samples\u001b[49m\u001b[43m(\u001b[49m\u001b[43m)\u001b[49m\n",
      "File \u001b[0;32m/net/i01/work/mlyang721/tomcat-coordination/notebooks/../coordination/model/template.py:94\u001b[0m, in \u001b[0;36mModelTemplate.draw_samples\u001b[0;34m(self, seed, num_series)\u001b[0m\n\u001b[1;32m     85\u001b[0m \u001b[38;5;250m\u001b[39m\u001b[38;5;124;03m\"\"\"\u001b[39;00m\n\u001b[1;32m     86\u001b[0m \u001b[38;5;124;03mDraws samples from the model using ancestral sampling and some blending strategy with\u001b[39;00m\n\u001b[1;32m     87\u001b[0m \u001b[38;5;124;03mcoordination and different subjects.\u001b[39;00m\n\u001b[0;32m   (...)\u001b[0m\n\u001b[1;32m     91\u001b[0m \u001b[38;5;124;03m@return: model samples for each coordination series.\u001b[39;00m\n\u001b[1;32m     92\u001b[0m \u001b[38;5;124;03m\"\"\"\u001b[39;00m\n\u001b[1;32m     93\u001b[0m \u001b[38;5;28mself\u001b[39m\u001b[38;5;241m.\u001b[39m_create_model_from_config_bundle()\n\u001b[0;32m---> 94\u001b[0m \u001b[38;5;28;01mreturn\u001b[39;00m \u001b[38;5;28;43mself\u001b[39;49m\u001b[38;5;241;43m.\u001b[39;49m\u001b[43m_model\u001b[49m\u001b[38;5;241;43m.\u001b[39;49m\u001b[43mdraw_samples\u001b[49m\u001b[43m(\u001b[49m\u001b[43mseed\u001b[49m\u001b[43m,\u001b[49m\u001b[43m \u001b[49m\u001b[43mnum_series\u001b[49m\u001b[43m)\u001b[49m\n",
      "File \u001b[0;32m/net/i01/work/mlyang721/tomcat-coordination/notebooks/../coordination/model/model.py:68\u001b[0m, in \u001b[0;36mModel.draw_samples\u001b[0;34m(self, seed, num_series)\u001b[0m\n\u001b[1;32m     58\u001b[0m \u001b[38;5;250m\u001b[39m\u001b[38;5;124;03m\"\"\"\u001b[39;00m\n\u001b[1;32m     59\u001b[0m \u001b[38;5;124;03mDraws samples from the model using ancestral sampling and some blending strategy with\u001b[39;00m\n\u001b[1;32m     60\u001b[0m \u001b[38;5;124;03mcoordination and different subjects.\u001b[39;00m\n\u001b[0;32m   (...)\u001b[0m\n\u001b[1;32m     64\u001b[0m \u001b[38;5;124;03m@return: model samples for each coordination series.\u001b[39;00m\n\u001b[1;32m     65\u001b[0m \u001b[38;5;124;03m\"\"\"\u001b[39;00m\n\u001b[1;32m     66\u001b[0m \u001b[38;5;28msuper\u001b[39m()\u001b[38;5;241m.\u001b[39mdraw_samples(seed, num_series)\n\u001b[0;32m---> 68\u001b[0m coordination_samples \u001b[38;5;241m=\u001b[39m \u001b[38;5;28;43mself\u001b[39;49m\u001b[38;5;241;43m.\u001b[39;49m\u001b[43mcoordination\u001b[49m\u001b[38;5;241;43m.\u001b[39;49m\u001b[43mdraw_samples\u001b[49m\u001b[43m(\u001b[49m\u001b[43mseed\u001b[49m\u001b[43m,\u001b[49m\u001b[43m \u001b[49m\u001b[43mnum_series\u001b[49m\u001b[43m)\u001b[49m\n\u001b[1;32m     70\u001b[0m \u001b[38;5;66;03m# Place the latent component and observation samples from all groups in a single\u001b[39;00m\n\u001b[1;32m     71\u001b[0m \u001b[38;5;66;03m# dictionary for easy query.\u001b[39;00m\n\u001b[1;32m     72\u001b[0m component_group_samples \u001b[38;5;241m=\u001b[39m {}\n",
      "File \u001b[0;32m/net/i01/work/mlyang721/tomcat-coordination/notebooks/../coordination/module/coordination/sigmoid_gaussian_coordination.py:154\u001b[0m, in \u001b[0;36mSigmoidGaussianCoordination.draw_samples\u001b[0;34m(self, seed, num_series)\u001b[0m\n\u001b[1;32m    151\u001b[0m     unbounded_coordination \u001b[38;5;241m=\u001b[39m unbounded_coordination\u001b[38;5;241m.\u001b[39mcumsum(axis\u001b[38;5;241m=\u001b[39m\u001b[38;5;241m-\u001b[39m\u001b[38;5;241m1\u001b[39m)\n\u001b[1;32m    153\u001b[0m     \u001b[38;5;28;01mif\u001b[39;00m \u001b[38;5;28mself\u001b[39m\u001b[38;5;241m.\u001b[39minitial_samples \u001b[38;5;129;01mis\u001b[39;00m \u001b[38;5;129;01mnot\u001b[39;00m \u001b[38;5;28;01mNone\u001b[39;00m:\n\u001b[0;32m--> 154\u001b[0m         unbounded_coordination \u001b[38;5;241m=\u001b[39m \u001b[43mnp\u001b[49m\u001b[38;5;241;43m.\u001b[39;49m\u001b[43mconcatenate\u001b[49m\u001b[43m(\u001b[49m\n\u001b[1;32m    155\u001b[0m \u001b[43m            \u001b[49m\u001b[43m[\u001b[49m\u001b[38;5;28;43mself\u001b[39;49m\u001b[38;5;241;43m.\u001b[39;49m\u001b[43minitial_samples\u001b[49m\u001b[43m,\u001b[49m\u001b[43m \u001b[49m\u001b[43munbounded_coordination\u001b[49m\u001b[43m]\u001b[49m\u001b[43m,\u001b[49m\u001b[43m \u001b[49m\u001b[43maxis\u001b[49m\u001b[38;5;241;43m=\u001b[39;49m\u001b[38;5;241;43m-\u001b[39;49m\u001b[38;5;241;43m1\u001b[39;49m\n\u001b[1;32m    156\u001b[0m \u001b[43m        \u001b[49m\u001b[43m)\u001b[49m\n\u001b[1;32m    157\u001b[0m \u001b[38;5;28;01melse\u001b[39;00m:\n\u001b[1;32m    158\u001b[0m     unbounded_coordination \u001b[38;5;241m=\u001b[39m (\n\u001b[1;32m    159\u001b[0m         np\u001b[38;5;241m.\u001b[39marray([]) \u001b[38;5;28;01mif\u001b[39;00m \u001b[38;5;28mself\u001b[39m\u001b[38;5;241m.\u001b[39minitial_samples \u001b[38;5;129;01mis\u001b[39;00m \u001b[38;5;28;01mNone\u001b[39;00m \u001b[38;5;28;01melse\u001b[39;00m \u001b[38;5;28mself\u001b[39m\u001b[38;5;241m.\u001b[39minitial_samples\n\u001b[1;32m    160\u001b[0m     )\n",
      "File \u001b[0;32m<__array_function__ internals>:200\u001b[0m, in \u001b[0;36mconcatenate\u001b[0;34m(*args, **kwargs)\u001b[0m\n",
      "\u001b[0;31mValueError\u001b[0m: all the input arrays must have same number of dimensions, but the array at index 0 has 2 dimension(s) and the array at index 1 has 3 dimension(s)"
     ]
    }
   ],
   "source": [
    "# Config bundle for a model of fNIRS with two features\n",
    "def get_config_bundle(num_time_steps, \n",
    "                      coordination, \n",
    "                      constant_coordination, \n",
    "                      process_noise = 0, \n",
    "                      observation_noise = 0,\n",
    "                      common_cause = False):\n",
    "    bundle = BrainBundle()\n",
    "    bundle.num_time_steps_in_coordination_scale = num_time_steps\n",
    "    bundle.num_fnirs_channels = 2\n",
    "    bundle.fnirs_channel_names = [\"Channel1\", \"Channel2\"]\n",
    "    \n",
    "    # Hyper-prior parameters\n",
    "    bundle.sd_sd_uc = 0.1\n",
    "    bundle.sd_mean_uc0 = 1.0\n",
    "    bundle.sd_mean_a0 = 1.0\n",
    "    bundle.fnirs_share_mean_a0_across_subjects = False\n",
    "    bundle.fnirs_share_mean_a0_across_dimensions = False    \n",
    "    bundle.common_cause = common_cause\n",
    "    \n",
    "    # Parameters\n",
    "    bundle.mean_cc0 = np.array([[1.0, 3.0]])\n",
    "    bundle.sd_cc=process_noise\n",
    "    bundle.fnirs_mean_a0 = np.array([[0.0, 1.0], [1, 2.0], [2, 3.0]])\n",
    "    bundle.fnirs_sd_a = process_noise\n",
    "    bundle.fnirs_sd_o = observation_noise\n",
    "    bundle.mean_uc0 = 0.0\n",
    "    bundle.sd_uc = 0.1\n",
    "        \n",
    "    # Fix coordination samples so we can generate samples for a fixed coordination series.\n",
    "    if constant_coordination:\n",
    "        bundle.constant_coordination = True\n",
    "        bundle.initial_coordination_samples = np.ones((1, num_time_steps)) * coordination\n",
    "    else:\n",
    "        if isinstance(coordination, np.ndarray):\n",
    "            coordination_series = coordination\n",
    "        else:\n",
    "            coordination_series = np.ones(num_time_steps) * coordination\n",
    "        bundle.initial_coordination_samples = coordination_series[None, :]\n",
    "\n",
    "    return bundle\n",
    "\n",
    "model_low_c_and_cc = BrainModel(get_config_bundle(T, 0.2, False, process_noise = 0.01, observation_noise = 0.01, common_cause=True))\n",
    "data_low_c_and_cc = model_low_c_and_cc.draw_samples()"
   ]
  },
  {
   "cell_type": "code",
   "execution_count": 8,
   "id": "39bf6a844eb76f42",
   "metadata": {
    "ExecuteTime": {
     "end_time": "2024-10-13T16:43:16.879828Z",
     "start_time": "2024-10-13T16:43:16.035211Z"
    }
   },
   "outputs": [
    {
     "ename": "NameError",
     "evalue": "name 'data_low_c_and_cc' is not defined",
     "output_type": "error",
     "traceback": [
      "\u001b[0;31m---------------------------------------------------------------------------\u001b[0m",
      "\u001b[0;31mNameError\u001b[0m                                 Traceback (most recent call last)",
      "Cell \u001b[0;32mIn[8], line 17\u001b[0m\n\u001b[1;32m     15\u001b[0m fig, axs \u001b[38;5;241m=\u001b[39m plt\u001b[38;5;241m.\u001b[39msubplots(\u001b[38;5;241m2\u001b[39m, \u001b[38;5;241m2\u001b[39m, figsize\u001b[38;5;241m=\u001b[39mcalculate_best_figure_dimensions(DOC_WIDTH, subplots\u001b[38;5;241m=\u001b[39m(\u001b[38;5;241m2\u001b[39m,\u001b[38;5;241m2\u001b[39m)))\n\u001b[1;32m     16\u001b[0m axs \u001b[38;5;241m=\u001b[39m axs\u001b[38;5;241m.\u001b[39mflatten()\n\u001b[0;32m---> 17\u001b[0m plot_common_cause(\u001b[43mdata_low_c_and_cc\u001b[49m, axs[\u001b[38;5;241m0\u001b[39m])\n\u001b[1;32m     18\u001b[0m plot_latent_component(data_low_c_and_cc, \u001b[38;5;241m0\u001b[39m, axs[\u001b[38;5;241m1\u001b[39m])\n\u001b[1;32m     19\u001b[0m plot_latent_component(data_low_c_and_cc, \u001b[38;5;241m1\u001b[39m, axs[\u001b[38;5;241m2\u001b[39m])\n",
      "\u001b[0;31mNameError\u001b[0m: name 'data_low_c_and_cc' is not defined"
     ]
    },
    {
     "data": {
      "image/png": "[encoded data removed]",
      "text/plain": [
       "<Figure size 673.862x416.47 with 4 Axes>"
      ]
     },
     "metadata": {
      "image/png": {
       "height": 360,
       "width": 571
      }
     },
     "output_type": "display_data"
    }
   ],
   "source": [
    "def plot_common_cause(samples: ModelSamples, ax: Optional[plt.Axes] = None):\n",
    "    if ax is None:\n",
    "        ax = plt.figure(figsize=calculate_best_figure_dimensions(DOC_WIDTH)).gca()\n",
    "    \n",
    "    ax.plot(range(T), samples.component_group_samples['common_cause_fnirs_state_space'].values[0, 0, 0], \"o-\", label=\"Position\", markersize=3)\n",
    "    ax.plot(range(T), samples.component_group_samples['common_cause_fnirs_state_space'].values[0, 0, 1], \"o-\", label=\"Velocity\", markersize=3)\n",
    "    \n",
    "def plot_latent_component(samples: ModelSamples, subject_idx: int, ax: Optional[plt.Axes] = None):\n",
    "    if ax is None:\n",
    "        ax = plt.figure(figsize=calculate_best_figure_dimensions(DOC_WIDTH)).gca()\n",
    "    \n",
    "    ax.plot(range(T), samples.component_group_samples['fnirs_state_space'].values[0, subject_idx, 0], \"o-\", label=\"Position\", markersize=3)\n",
    "    ax.plot(range(T), samples.component_group_samples['fnirs_state_space'].values[0, subject_idx, 1], \"o-\", label=\"Velocity\", markersize=3)\n",
    "    \n",
    "fig, axs = plt.subplots(2, 2, figsize=calculate_best_figure_dimensions(DOC_WIDTH, subplots=(2,2)))\n",
    "axs = axs.flatten()\n",
    "plot_common_cause(data_low_c_and_cc, axs[0])\n",
    "plot_latent_component(data_low_c_and_cc, 0, axs[1])\n",
    "plot_latent_component(data_low_c_and_cc, 1, axs[2])\n",
    "plot_latent_component(data_low_c_and_cc, 2, axs[3])\n",
    "axs[0].set_title(\"Common Cause\")\n",
    "axs[1].set_title(\"Subject 1\")\n",
    "axs[2].set_title(\"Subject 2\")\n",
    "axs[3].set_title(\"Subject 3\")\n",
    "plt.tight_layout()"
   ]
  },
  {
   "cell_type": "markdown",
   "id": "dc173cb6-6921-4b7f-89b0-1c99c752b2a4",
   "metadata": {},
   "source": [
    "# Synthetic Data"
   ]
  },
  {
   "cell_type": "markdown",
   "id": "19a73df1-f616-4f15-87f4-90196427b62d",
   "metadata": {},
   "source": [
    "# Experiments"
   ]
  },
  {
   "cell_type": "markdown",
   "id": "70735a65-2f1a-4a12-a75a-e78c38b35a31",
   "metadata": {},
   "source": [
    "## Helper Functions"
   ]
  },
  {
   "cell_type": "code",
   "execution_count": 10,
   "id": "df0d47f4-2e37-475a-a4a7-1d68fbf9512b",
   "metadata": {
    "ExecuteTime": {
     "end_time": "2024-10-13T16:47:27.084496Z",
     "start_time": "2024-10-13T16:43:17.570908Z"
    }
   },
   "outputs": [
    {
     "ename": "NameError",
     "evalue": "name 'data_low_c_and_cc' is not defined",
     "output_type": "error",
     "traceback": [
      "\u001b[0;31m---------------------------------------------------------------------------\u001b[0m",
      "\u001b[0;31mNameError\u001b[0m                                 Traceback (most recent call last)",
      "Cell \u001b[0;32mIn[10], line 8\u001b[0m\n\u001b[1;32m      6\u001b[0m bundle \u001b[38;5;241m=\u001b[39m deepcopy(model_low_c_and_cc\u001b[38;5;241m.\u001b[39mconfig_bundle)\n\u001b[1;32m      7\u001b[0m cloned_model \u001b[38;5;241m=\u001b[39m \u001b[38;5;28mtype\u001b[39m(model_low_c_and_cc)(bundle)\n\u001b[0;32m----> 8\u001b[0m update_config_bundle_from_samples(bundle, \u001b[43mdata_low_c_and_cc\u001b[49m)\n\u001b[1;32m     10\u001b[0m \u001b[38;5;66;03m# Clear the parameters I want to infer.\u001b[39;00m\n\u001b[1;32m     11\u001b[0m bundle\u001b[38;5;241m.\u001b[39mmean_cc0 \u001b[38;5;241m=\u001b[39m \u001b[38;5;28;01mNone\u001b[39;00m\n",
      "\u001b[0;31mNameError\u001b[0m: name 'data_low_c_and_cc' is not defined"
     ]
    }
   ],
   "source": [
    "def update_config_bundle_from_samples(config_bundle: BrainBundle, samples: ModelSamples):\n",
    "    config_bundle.fnirs_time_steps_in_coordination_scale = samples.component_group_samples[\"fnirs_state_space\"].time_steps_in_coordination_scale[0]\n",
    "    config_bundle.fnirs_observed_values = samples.component_group_samples[\"fnirs\"].values[0]\n",
    "\n",
    "# Copy the data to the config bundle\n",
    "bundle = deepcopy(model_low_c_and_cc.config_bundle)\n",
    "cloned_model = type(model_low_c_and_cc)(bundle)\n",
    "update_config_bundle_from_samples(bundle, data_low_c_and_cc)\n",
    "\n",
    "# Clear the parameters I want to infer.\n",
    "bundle.mean_cc0 = None\n",
    "# bundle.sd_cc = None\n",
    "bundle.fnirs_mean_a0 = None\n",
    "bundle.fnirs_sd_a = None\n",
    "# bundle.fnirs_sd_o = None\n",
    "bundle.mean_uc0 = None\n",
    "bundle.constant_coordination=True\n",
    "# bundle.sd_uc = None\n",
    "\n",
    "cloned_model.prepare_for_inference()    \n",
    "idata = cloned_model.fit(burn_in = 1000, num_samples = 1000, num_chains = 2)\n",
    "\n",
    " # Plot coordination\n",
    "fig = plt.figure(figsize=calculate_best_figure_dimensions(document_width=DOC_WIDTH))\n",
    "idata.plot_time_series_posterior(ax=fig.gca(), variable_name=\"coordination\", include_bands=True, value_bounds=(0, 1), marker=None)\n",
    "idata.plot_parameter_posterior()\n",
    "print(idata.generate_convergence_summary())"
   ]
  },
  {
   "cell_type": "code",
   "execution_count": 19,
   "id": "b7d47d877d1c2ef6",
   "metadata": {
    "ExecuteTime": {
     "end_time": "2024-10-13T16:53:42.036696Z",
     "start_time": "2024-10-13T16:53:41.885439Z"
    }
   },
   "outputs": [
    {
     "data": {
      "text/plain": [
       "<matplotlib.legend.Legend at 0x2afb56280>"
      ]
     },
     "execution_count": 19,
     "metadata": {},
     "output_type": "execute_result"
    },
    {
     "data": {
      "image/png": "[encoded data removed]",
      "text/plain": [
       "<Figure size 600x400 with 1 Axes>"
      ]
     },
     "metadata": {
      "image/png": {
       "height": 360,
       "width": 523
      }
     },
     "output_type": "display_data"
    }
   ],
   "source": [
    "fig = plt.figure(figsize=(6,4))\n",
    "idata.plot_time_series_posterior(variable_name=\"common_cause\", ax=fig.gca(), include_bands=True, marker=None, dimension=0, label=\"Speed\")\n",
    "idata.plot_time_series_posterior(variable_name=\"common_cause\", ax=fig.gca(), include_bands=True, marker=None, dimension=1, label=\"Velocity\")\n",
    "# plot_common_cause(data_low_c_and_cc, fig.gca())\n",
    "plt.legend()"
   ]
  },
  {
   "cell_type": "code",
   "execution_count": null,
   "id": "1fd5fa2807c75946",
   "metadata": {},
   "outputs": [],
   "source": []
  }
 ],
 "metadata": {
  "kernelspec": {
   "display_name": "coordination",
   "language": "python",
   "name": "python3"
  },
  "language_info": {
   "codemirror_mode": {
    "name": "ipython",
    "version": 3
   },
   "file_extension": ".py",
   "mimetype": "text/x-python",
   "name": "python",
   "nbconvert_exporter": "python",
   "pygments_lexer": "ipython3",
   "version": "3.11.9"
  }
 },
 "nbformat": 4,
 "nbformat_minor": 5
}
